{
 "cells": [
  {
   "cell_type": "markdown",
   "metadata": {
    "id": "xt4EzxRHwLEk"
   },
   "source": [
    "# IMDB Recommender System"
   ]
  },
  {
   "cell_type": "markdown",
   "metadata": {},
   "source": [
    "## Data Preparation and Initialization"
   ]
  },
  {
   "cell_type": "markdown",
   "metadata": {
    "id": "zCjxm7oiwOsA"
   },
   "source": [
    "### Import Packages"
   ]
  },
  {
   "cell_type": "code",
   "execution_count": null,
   "metadata": {
    "colab": {
     "base_uri": "https://localhost:8080/"
    },
    "executionInfo": {
     "elapsed": 30635,
     "status": "ok",
     "timestamp": 1701381854818,
     "user": {
      "displayName": "Dawson MA",
      "userId": "01975604679306904918"
     },
     "user_tz": 480
    },
    "id": "up-Q-eVoS9xc",
    "outputId": "0379eebd-9b8a-4992-b8c3-6cccb4272044"
   },
   "outputs": [],
   "source": [
    "import os\n",
    "import zipfile\n",
    "import pandas\n",
    "import csv\n",
    "from collections import defaultdict\n",
    "import numpy as np\n",
    "import matplotlib.pyplot as plt\n",
    "import datetime\n",
    "import random\n",
    "import statistics\n",
    "import scipy\n",
    "from implicit import bpr\n",
    "from sklearn import linear_model\n",
    "import numpy\n"
   ]
  },
  {
   "cell_type": "markdown",
   "metadata": {
    "id": "8LUIckYIwWBH"
   },
   "source": [
    "### Dataset Preparation"
   ]
  },
  {
   "cell_type": "code",
   "execution_count": null,
   "metadata": {
    "executionInfo": {
     "elapsed": 29072,
     "status": "ok",
     "timestamp": 1701381887549,
     "user": {
      "displayName": "Dawson MA",
      "userId": "01975604679306904918"
     },
     "user_tz": 480
    },
    "id": "BQ4Sy4Ino8ae"
   },
   "outputs": [],
   "source": [
    "archive = zipfile.ZipFile('dataset.zip', 'r')\n",
    "archive.extractall()"
   ]
  },
  {
   "cell_type": "code",
   "execution_count": null,
   "metadata": {
    "colab": {
     "base_uri": "https://localhost:8080/",
     "height": 35
    },
    "executionInfo": {
     "elapsed": 408,
     "status": "ok",
     "timestamp": 1701381887551,
     "user": {
      "displayName": "Dawson MA",
      "userId": "01975604679306904918"
     },
     "user_tz": 480
    },
    "id": "s6Iqj31bokTx",
    "outputId": "20281b12-f029-4851-fce5-3fef8165839d"
   },
   "outputs": [],
   "source": [
    "# Get the list of files in the archive\n",
    "moive_genre = []\n",
    "movie_reviews = []\n",
    "for filename in archive.namelist():\n",
    "    if \"1_movies_per_genre\" in filename:\n",
    "        moive_genre.append(filename)\n",
    "    else:\n",
    "        movie_reviews.append(filename)\n",
    "moive_genre.pop(0)\n",
    "movie_reviews.pop(0)"
   ]
  },
  {
   "cell_type": "code",
   "execution_count": null,
   "metadata": {
    "colab": {
     "base_uri": "https://localhost:8080/"
    },
    "executionInfo": {
     "elapsed": 23376,
     "status": "ok",
     "timestamp": 1701381910729,
     "user": {
      "displayName": "Dawson MA",
      "userId": "01975604679306904918"
     },
     "user_tz": 480
    },
    "id": "NSu1-_MptEXq",
    "outputId": "d5cce65e-9d81-4505-fbf6-f6bbac74c30e"
   },
   "outputs": [],
   "source": [
    "# Read the data from the files\n",
    "data_dict = {}\n",
    "movie_dict = {}\n",
    "for f in movie_reviews:\n",
    "    with open(f, mode ='r') as file:\n",
    "        csv_reader = csv.DictReader(file)\n",
    "        data_dict[f[24:-9]] = [row for row in csv_reader]\n",
    "\n",
    "genre_dict = {}\n",
    "for f in moive_genre:\n",
    "    with open(f, mode ='r') as file:\n",
    "        csv_reader = csv.DictReader(file)\n",
    "        for row in csv_reader:\n",
    "            genre_dict[f[19:-4]] = row\n",
    "            movie_dict[row['name']] = row"
   ]
  },
  {
   "cell_type": "markdown",
   "metadata": {},
   "source": [
    "### Data Preprocessing"
   ]
  },
  {
   "cell_type": "code",
   "execution_count": null,
   "metadata": {
    "colab": {
     "base_uri": "https://localhost:8080/"
    },
    "executionInfo": {
     "elapsed": 13519,
     "status": "ok",
     "timestamp": 1701381924028,
     "user": {
      "displayName": "Dawson MA",
      "userId": "01975604679306904918"
     },
     "user_tz": 480
    },
    "id": "hf2eo_nTtM32",
    "outputId": "ea3d1c50-2def-481b-98ed-41616d29c198"
   },
   "outputs": [],
   "source": [
    "# Create a dictionary to store the data for each movie and each user\n",
    "moviesPerUser_raw = defaultdict(set)\n",
    "usersPerMovie_raw = defaultdict(set)\n",
    "ratingPerUser = defaultdict(list)\n",
    "ratingPerMovie = defaultdict(list)\n",
    "yearRating = defaultdict(list)\n",
    "\n",
    "# Create a set of all user-movie pairs\n",
    "userMoviePair = set()\n",
    "users = set()\n",
    "movies = set()\n",
    "data = []\n",
    "\n",
    "# Create a dictionary to store the betaU and betaI values for each user and each movie\n",
    "# BetaU and BetaI are the average ratings given by each user and each movie\n",
    "betaU_dict = {}\n",
    "betaI_dict = {}\n",
    "movie_ratings_raw = []\n",
    "userIDs, movieIDs = {}, {}\n",
    "\n",
    "for movie, comments in data_dict.items():\n",
    "    movies.add(movie)\n",
    "    if not movie in movieIDs: movieIDs[movie] = len(movieIDs)\n",
    "    for comment in comments:\n",
    "        user = comment[\"username\"]\n",
    "        data.append(comment)\n",
    "        data[-1][\"moviename\"] = movie\n",
    "        users.add(user)\n",
    "        moviesPerUser_raw[user].add(movie)\n",
    "        usersPerMovie_raw[movie].add(user)\n",
    "        if not user in userIDs: userIDs[user] = len(userIDs)\n",
    "        userMoviePair.add((user, movie))\n",
    "        if comment[\"rating\"] != \"Null\":\n",
    "            rating = int(comment[\"rating\"])\n",
    "            yearRating[comment[\"date\"][-4:]].append(rating)\n",
    "            ratingPerUser[user].append(rating)\n",
    "            ratingPerMovie[movie].append(rating)\n",
    "            betaU_dict[user] = [betaU_dict.get(user, [0.0, 0])[0] + rating, betaU_dict.get(user, [0.0, 0])[1] + 1]\n",
    "            betaI_dict[movie] = [betaI_dict.get(movie, [0.0, 0])[0] + rating, betaI_dict.get(movie, [0.0, 0])[1] + 1]\n",
    "            movie_ratings_raw.append([user, movie, rating])"
   ]
  },
  {
   "cell_type": "code",
   "execution_count": null,
   "metadata": {},
   "outputs": [],
   "source": [
    "# Filter out users who have rated less than 3 movies\n",
    "thres = 3\n",
    "\n",
    "movie_ratings = []\n",
    "moviesPerUser = defaultdict(set)\n",
    "usersPerMovie = defaultdict(set)\n",
    "\n",
    "for u in moviesPerUser_raw:\n",
    "    if len(moviesPerUser_raw[u]) > thres:\n",
    "        moviesPerUser[u] = moviesPerUser_raw[u]\n",
    "\n",
    "for item in movie_ratings_raw:\n",
    "    if item[0] in moviesPerUser:\n",
    "        movie_ratings.append(item)\n",
    "        usersPerMovie[item[1]].add(item[0])\n",
    "        \n",
    "random.shuffle(movie_ratings)"
   ]
  },
  {
   "cell_type": "code",
   "execution_count": null,
   "metadata": {
    "colab": {
     "base_uri": "https://localhost:8080/"
    },
    "executionInfo": {
     "elapsed": 1732,
     "status": "ok",
     "timestamp": 1701381924032,
     "user": {
      "displayName": "Dawson MA",
      "userId": "01975604679306904918"
     },
     "user_tz": 480
    },
    "id": "ZopItA9KGeH2",
    "outputId": "9adc0a06-ef20-4842-b2f4-47bda8068ff6"
   },
   "outputs": [],
   "source": [
    "# Create a dictionary to store the data for each movie and each genre\n",
    "moviesPerGenre = defaultdict(set)\n",
    "genresPerMovie = defaultdict(set)\n",
    "genres = set()\n",
    "\n",
    "for genre, movies in genre_dict.items():\n",
    "    genres.add(genre)\n",
    "    for movieinfo in movies:\n",
    "        movie = movieinfo['name']\n",
    "        moviesPerGenre[genre].add(movie)\n",
    "        genresPerMovie[movie].add(genre)"
   ]
  },
  {
   "cell_type": "markdown",
   "metadata": {},
   "source": [
    "### Data Analysis"
   ]
  },
  {
   "cell_type": "markdown",
   "metadata": {},
   "source": [
    "#### Number of Movies per Genre"
   ]
  },
  {
   "cell_type": "code",
   "execution_count": null,
   "metadata": {
    "colab": {
     "base_uri": "https://localhost:8080/",
     "height": 398
    },
    "executionInfo": {
     "elapsed": 347,
     "status": "ok",
     "timestamp": 1701373443776,
     "user": {
      "displayName": "Dawson MA",
      "userId": "01975604679306904918"
     },
     "user_tz": 480
    },
    "id": "hB0obbd0J7xH",
    "outputId": "2da5614a-c629-4b33-b80d-591cdb57f915"
   },
   "outputs": [],
   "source": [
    "x = []\n",
    "y = []\n",
    "for key, value in moviesPerGenre.items():\n",
    "    x.append(key)\n",
    "    y.append(len(value))\n",
    "\n",
    "fig = plt.figure(figsize = (20, 5))\n",
    "plt.bar(x, y, color ='blue', width = 0.5)\n",
    "plt.xlabel(\"Genre\")\n",
    "plt.ylabel(\"No. of Movies\")\n",
    "plt.title(\"Number of Movies per Genre\")\n",
    "plt.show()"
   ]
  },
  {
   "cell_type": "markdown",
   "metadata": {},
   "source": [
    "#### Number of People for Each Rating"
   ]
  },
  {
   "cell_type": "code",
   "execution_count": null,
   "metadata": {
    "colab": {
     "base_uri": "https://localhost:8080/",
     "height": 524
    },
    "executionInfo": {
     "elapsed": 365,
     "status": "ok",
     "timestamp": 1701335121378,
     "user": {
      "displayName": "Kevin Shih",
      "userId": "00134616409449534206"
     },
     "user_tz": 480
    },
    "id": "Cnh_bVBMcCWs",
    "outputId": "ff914c3b-4e4d-414a-f2b9-503d86b08172"
   },
   "outputs": [],
   "source": [
    "y = [0 for i in range(10)]\n",
    "x = [(i+1) for i in range(10)]\n",
    "\n",
    "for comment in data_dict[\"The Dark Knight\"]:\n",
    "    if comment[\"rating\"] != \"Null\":\n",
    "        y[int(comment[\"rating\"])-1] += 1\n",
    "\n",
    "fig = plt.figure(figsize = (10, 5))\n",
    "plt.bar(x, y, color ='blue', width = 0.5)\n",
    "plt.xlabel(\"Rating\")\n",
    "plt.ylabel(\"Number of Ratings\")\n",
    "plt.title(\"Number of People for Each Rating\")\n",
    "plt.show()"
   ]
  },
  {
   "cell_type": "markdown",
   "metadata": {},
   "source": [
    "#### Average of Movie Rating Each Year"
   ]
  },
  {
   "cell_type": "code",
   "execution_count": null,
   "metadata": {
    "colab": {
     "base_uri": "https://localhost:8080/",
     "height": 342
    },
    "executionInfo": {
     "elapsed": 399,
     "status": "ok",
     "timestamp": 1701334412702,
     "user": {
      "displayName": "Kevin Shih",
      "userId": "00134616409449534206"
     },
     "user_tz": 480
    },
    "id": "mgK-azcEMTbc",
    "outputId": "359f870e-030f-4de5-d66c-45f9a0fba80f"
   },
   "outputs": [],
   "source": [
    "x = []\n",
    "y = []\n",
    "\n",
    "items = sorted(list(yearRating.items()))\n",
    "for year, rating in items:\n",
    "    x.append(year)\n",
    "    y.append(sum(rating)/len(rating))\n",
    "\n",
    "fig = plt.figure(figsize = (20, 5))\n",
    "plt.bar(x, y, color ='blue', width = 0.5)\n",
    "plt.xlabel(\"Years\")\n",
    "plt.ylabel(\"Average of Movie Rating\")\n",
    "plt.title(\"Average of Movie Rating Each Year\")\n",
    "plt.show()"
   ]
  },
  {
   "cell_type": "markdown",
   "metadata": {
    "id": "hO4wpj1mwKEI"
   },
   "source": [
    "#### Average of Genre Rating"
   ]
  },
  {
   "cell_type": "code",
   "execution_count": null,
   "metadata": {
    "executionInfo": {
     "elapsed": 31,
     "status": "ok",
     "timestamp": 1701382283134,
     "user": {
      "displayName": "Dawson MA",
      "userId": "01975604679306904918"
     },
     "user_tz": 480
    },
    "id": "N8eRz953wa9-"
   },
   "outputs": [],
   "source": [
    "def addlabels(x, y, fontSize=8, height=0.1):\n",
    "    y = [round(num, 2) for num in y]\n",
    "    for i in range(len(x)):\n",
    "        plt.text(i, y[i]+height, y[i], ha = 'center', fontsize=fontSize)"
   ]
  },
  {
   "cell_type": "code",
   "execution_count": null,
   "metadata": {
    "colab": {
     "base_uri": "https://localhost:8080/",
     "height": 412
    },
    "executionInfo": {
     "elapsed": 1152,
     "status": "ok",
     "timestamp": 1701382284603,
     "user": {
      "displayName": "Dawson MA",
      "userId": "01975604679306904918"
     },
     "user_tz": 480
    },
    "id": "3mNDvhq7wc3l",
    "outputId": "b3d22322-38fc-494c-bce1-3d49c5e01652"
   },
   "outputs": [],
   "source": [
    "genre_rating = {}\n",
    "for gen in genres:\n",
    "    avg_rating = 0.\n",
    "    for movie in genre_dict[gen]:\n",
    "        avg_rating += float(movie['rating'])\n",
    "    genre_rating[gen] = avg_rating / len(genre_dict[gen])\n",
    "\n",
    "x = range(len(genre_rating))\n",
    "y = list(genre_rating.values())\n",
    "\n",
    "fig, ax = plt.subplots(figsize=(20, 5))\n",
    "plt.bar(x, y, tick_label=list(genre_rating.keys()), color ='#3081D0', width = 0.5)\n",
    "addlabels(x, y)\n",
    "plt.xlabel(\"Genre\", fontsize=15)\n",
    "plt.ylabel(\"Average\", fontsize=15)\n",
    "plt.title(\"Average of Genre Rating\", fontsize=20)\n",
    "plt.show()"
   ]
  },
  {
   "cell_type": "markdown",
   "metadata": {
    "id": "5RqGwIyNwjeP"
   },
   "source": [
    "#### Average Movie Length Each Year"
   ]
  },
  {
   "cell_type": "code",
   "execution_count": null,
   "metadata": {
    "colab": {
     "base_uri": "https://localhost:8080/",
     "height": 408
    },
    "executionInfo": {
     "elapsed": 382,
     "status": "ok",
     "timestamp": 1701382285248,
     "user": {
      "displayName": "Dawson MA",
      "userId": "01975604679306904918"
     },
     "user_tz": 480
    },
    "id": "oArnqxpjwd59",
    "outputId": "243037bb-d1d1-4b0e-fc9a-77d77d5091b2"
   },
   "outputs": [],
   "source": [
    "yearLength = defaultdict(list)\n",
    "for gen in genre_dict.values():\n",
    "    for movie in gen:\n",
    "        if len(movie['run_length']) == 2:\n",
    "            movie_length = datetime.datetime.strptime(movie['run_length'], '%Hh').time()\n",
    "        else:\n",
    "            movie_length = datetime.datetime.strptime(movie['run_length'], '%Hh %Mmin').time()\n",
    "        yearLength[movie['year']].append(movie_length)\n",
    "\n",
    "yearAvgLen = {}\n",
    "for year, time in yearLength.items():\n",
    "    minSum = 0\n",
    "    for t in time:\n",
    "        minSum += t.hour * 60 + t.minute\n",
    "    yearAvgLen[int(year)] = minSum / len(time)\n",
    "\n",
    "y = []\n",
    "label = []\n",
    "for key in sorted(yearAvgLen.keys()):\n",
    "    if key < 1999:\n",
    "        continue\n",
    "    y.append(yearAvgLen[key])\n",
    "    label.append(key)\n",
    "x = range(len(y))\n",
    "\n",
    "fig, ax = plt.subplots(figsize=(20, 5))\n",
    "plt.bar(x, y, tick_label=label, color='#3081D0', width=0.5)\n",
    "addlabels(x, y, 8, 2)\n",
    "plt.xlabel(\"Year\", fontsize=15)\n",
    "plt.ylabel(\"Average Movie Length\", fontsize=15)\n",
    "plt.title(\"Average Movie Length Each Year\", fontsize=20)\n",
    "plt.show()"
   ]
  },
  {
   "cell_type": "markdown",
   "metadata": {},
   "source": [
    "## Rating Prediction"
   ]
  },
  {
   "cell_type": "markdown",
   "metadata": {},
   "source": [
    "### Baseline Model\n",
    "The prediction function is defined as  \n",
    "$f(user, item) = \\alpha + \\beta_u + \\beta_i$,  \n",
    "where $\\alpha$ is a constant, $\\beta_u$ is how much does this user tend to rate things above the mean, and $\\beta_i$ is how much does this item tend to receive  ratings than others.\n",
    "  \n",
    "The optimization problem:  \n",
    "$\\argmin_{\\alpha, \\beta} \\sum_{u, i} (\\alpha + \\beta_u + \\beta_i - R_{u,i})^2 + \\lambda [\\sum_u \\beta_u^2 + \\sum_i \\beta_i^2]$,  \n",
    "where $R_{u,i}$ is the ground truth rating.  \n",
    "The first term and the second term of the equation is error and regularizer, respectively."
   ]
  },
  {
   "cell_type": "markdown",
   "metadata": {},
   "source": [
    "#### Construct Beta for each user and movie"
   ]
  },
  {
   "cell_type": "code",
   "execution_count": null,
   "metadata": {
    "id": "6VIM8iPhbzhR"
   },
   "outputs": [],
   "source": [
    "betaU = {}\n",
    "betaI = {}\n",
    "\n",
    "random.shuffle(movie_ratings)\n",
    "ratings = [r[-1] for r in movie_ratings]\n",
    "globalAverage = sum(ratings) * 1.0 / len(ratings)\n",
    "\n",
    "for u in betaU_dict:\n",
    "    betaU[u] = betaU_dict[u][0] / betaU_dict[u][1] - globalAverage\n",
    "\n",
    "for m in betaI_dict:\n",
    "    betaI[m] = betaI_dict[m][0] / betaI_dict[m][1] - globalAverage\n",
    "\n",
    "alpha = globalAverage"
   ]
  },
  {
   "cell_type": "markdown",
   "metadata": {},
   "source": [
    "#### Optimize the Parameters\n",
    "By differentiating,  \n",
    "$\\alpha = \\frac{\\sum_{u,i\\in train}R_{u,i} - (\\beta_u + \\beta_i)}{N_{train}}$  \n",
    "$\\beta_u = \\frac{\\sum_{i\\in I_u} R_{u,i} - (\\alpha + \\beta_i)}{\\lambda + |I_u|}$  \n",
    "$\\beta_i = \\frac{\\sum_{u\\in U_i} R_{u,i} - (\\alpha + \\beta_u)}{\\lambda + |U_i|}$"
   ]
  },
  {
   "cell_type": "markdown",
   "metadata": {},
   "source": [
    "##### Model Training"
   ]
  },
  {
   "cell_type": "code",
   "execution_count": null,
   "metadata": {},
   "outputs": [],
   "source": [
    "def iterate(alpha, betaU, betaI, lamb=1, iteration=5):\n",
    "    for _ in range(iteration):\n",
    "        betaU_new = {}\n",
    "        betaI_new = {}\n",
    "        alpha_new = 0.0\n",
    "        ratingPerUser = {}\n",
    "        ratingPerItem = {}\n",
    "        thres = 1e-3\n",
    "\n",
    "        for u, m, rating in movie_ratings[:int(len(movie_ratings)*0.8)]:\n",
    "            alpha_new += (rating - betaU[u] - betaI[m])\n",
    "\n",
    "        ###  update alpha  ###\n",
    "        alpha_new /= len(movie_ratings[:int(len(movie_ratings)*0.8)])\n",
    "        alpha = alpha_new\n",
    "        \n",
    "        for u, m, rating in movie_ratings[:int(len(movie_ratings)*0.8)]:\n",
    "            ratingPerUser[u] = [ratingPerUser.get(u, [0.0, 0])[0] + (rating - alpha - betaI[m]), ratingPerUser.get(u, [0.0, 0])[1] + 1]\n",
    "            \n",
    "        ###  update betaU  ###\n",
    "        for u in ratingPerUser:\n",
    "            betaU_new[u] = ratingPerUser[u][0] / (lamb + ratingPerUser[u][1])\n",
    "        \n",
    "        betaU = betaU_new\n",
    "        \n",
    "        for u, m, rating in movie_ratings[:int(len(movie_ratings)*0.8)]:\n",
    "            ratingPerMovie[m] = [ratingPerMovie.get(m, [0.0, 0])[0] + (rating - alpha - betaU[u]), ratingPerMovie.get(m, [0.0, 0])[1] + 1]\n",
    "        ###  update betaI  ###\n",
    "        for m in ratingPerMovie:\n",
    "            betaI_new[m] = ratingPerMovie[m][0] / (lamb + ratingPerMovie[m][1])\n",
    "            \n",
    "\n",
    "        alpha, betaU, betaI = alpha_new, betaU_new, betaI_new\n",
    "    \n",
    "    return alpha_new, betaU_new, betaI_new"
   ]
  },
  {
   "cell_type": "markdown",
   "metadata": {},
   "source": [
    "#### Helper Function"
   ]
  },
  {
   "cell_type": "code",
   "execution_count": null,
   "metadata": {},
   "outputs": [],
   "source": [
    "def clip(n):\n",
    "    n = round(n)\n",
    "    n = max(n, 1)\n",
    "    n = min(n, 10)\n",
    "    return n"
   ]
  },
  {
   "cell_type": "code",
   "execution_count": null,
   "metadata": {},
   "outputs": [],
   "source": [
    "def mse(alpha, betaU, betaI):\n",
    "    mse = 0.0\n",
    "    for u, m, rating in movie_ratings[int(len(movie_ratings)*0.8):]:\n",
    "        if u in betaU and m in betaI:\n",
    "            mse += (rating - clip(alpha + betaU[u] + betaI[m]))**2\n",
    "        elif m in betaI:\n",
    "            mse += (rating - clip(alpha - betaI[m]))**2\n",
    "        else:\n",
    "            mse += (rating - clip(alpha))**2\n",
    "    mse /= len(movie_ratings[int(len(movie_ratings)*0.8):])\n",
    "    return mse"
   ]
  },
  {
   "cell_type": "code",
   "execution_count": null,
   "metadata": {},
   "outputs": [],
   "source": [
    "for i in range(5):\n",
    "    alpha, betaU, betaI = iterate(alpha, betaU, betaI, 2, 5)\n",
    "    validMSE = mse(alpha, betaU, betaI)\n",
    "    print(\"mse:\", validMSE)"
   ]
  },
  {
   "cell_type": "code",
   "execution_count": null,
   "metadata": {},
   "outputs": [],
   "source": [
    "print(len(movie_ratings[int(len(movie_ratings)*0.8):]))"
   ]
  },
  {
   "cell_type": "markdown",
   "metadata": {},
   "source": [
    "### Ridge Model"
   ]
  },
  {
   "cell_type": "code",
   "execution_count": null,
   "metadata": {},
   "outputs": [],
   "source": [
    "from sklearn.linear_model import Ridge\n",
    "from sklearn.model_selection import GridSearchCV\n",
    "\n",
    "X = [[alpha, betaU[u], betaI[m]] for u, m, rating in movie_ratings]\n",
    "y = ratings\n",
    "\n",
    "ridge=Ridge()\n",
    "parameters={'alpha':[0,1e-3,1e-2,1,5]}\n",
    "ridge_regressor=GridSearchCV(ridge,parameters,scoring='neg_mean_squared_error',cv=5)\n",
    "ridge_regressor.fit(X,y)\n",
    "\n",
    "print(ridge_regressor.best_params_)\n",
    "print(ridge_regressor.best_score_)"
   ]
  },
  {
   "cell_type": "code",
   "execution_count": null,
   "metadata": {},
   "outputs": [],
   "source": [
    "pred = ridge_regressor.predict(X)\n",
    "mse = 0.0\n",
    "for i in range(len(pred)):\n",
    "    mse += (y[i] - round(pred[i]))**2\n",
    "mse /= len(movie_ratings)\n",
    "print(mse)"
   ]
  },
  {
   "cell_type": "markdown",
   "metadata": {},
   "source": [
    "### SVD"
   ]
  },
  {
   "cell_type": "code",
   "execution_count": null,
   "metadata": {},
   "outputs": [],
   "source": [
    "import pandas as pd\n",
    "from surprise import BaselineOnly, SVD, SVDpp, Reader, Dataset\n",
    "from surprise.model_selection import train_test_split\n",
    "from surprise import accuracy\n",
    "from surprise.model_selection import KFold\n",
    "from surprise.model_selection import cross_validate\n",
    "\n",
    "kf = KFold(n_splits=3)\n",
    "\n",
    "min_rating, max_rating = 1, 10\n",
    "\n",
    "ratings_dict = {\"userID\": [], \"itemID\": [], \"ratings\": []}\n",
    "for l in movie_ratings:\n",
    "    ratings_dict[\"userID\"].append(l[0])\n",
    "    ratings_dict[\"itemID\"].append(l[1])\n",
    "    ratings_dict[\"ratings\"].append(l[2])\n",
    "\n",
    "df = pd.DataFrame(ratings_dict)\n",
    "reader = Reader(rating_scale=(min_rating, max_rating))\n",
    "data_df = Dataset.load_from_df(df[[\"userID\", \"itemID\", \"ratings\"]], reader)\n",
    "trainset, testset = train_test_split(data_df, test_size=0.2)\n",
    "# model = BaselineOnly()\n",
    "model = SVD()\n",
    "\n",
    "#for trainset, testset in kf.split(data_df):\n",
    "\n",
    "# train and test algorithm.\n",
    "model.fit(trainset)\n",
    "predictions = model.test(testset)\n",
    "\n",
    "# Compute and print Root Mean Squared Error\n",
    "accuracy.mse(predictions, verbose=True)"
   ]
  },
  {
   "cell_type": "code",
   "execution_count": null,
   "metadata": {},
   "outputs": [],
   "source": [
    "trainset, testset = train_test_split(data_df, test_size=0.2)\n",
    "pred = model.test(testset)\n",
    "\n",
    "mse = 0.0\n",
    "for i in range(len(pred)):\n",
    "    mse += (pred[i][2] - clip(pred[i][3]))**2\n",
    "mse /= len(pred)\n",
    "print(mse)\n",
    "\n",
    "accuracy.mse(pred, verbose=True)"
   ]
  },
  {
   "cell_type": "markdown",
   "metadata": {
    "id": "eMys-743wq1C"
   },
   "source": [
    "## Would Watch Prediction"
   ]
  },
  {
   "cell_type": "markdown",
   "metadata": {
    "id": "39HPH7Jews1e"
   },
   "source": [
    "#### Jaccard Similarity"
   ]
  },
  {
   "cell_type": "code",
   "execution_count": null,
   "metadata": {
    "executionInfo": {
     "elapsed": 37,
     "status": "ok",
     "timestamp": 1701382286978,
     "user": {
      "displayName": "Dawson MA",
      "userId": "01975604679306904918"
     },
     "user_tz": 480
    },
    "id": "ayRSWLnxwoPA"
   },
   "outputs": [],
   "source": [
    "def Jaccard(s1, s2):\n",
    "    return len(s1.intersection(s2)) / len(s1.union(s2))"
   ]
  },
  {
   "cell_type": "markdown",
   "metadata": {},
   "source": [
    "### Baseline Model\n",
    "Predict the user would watch the movie by logic"
   ]
  },
  {
   "cell_type": "code",
   "execution_count": null,
   "metadata": {
    "executionInfo": {
     "elapsed": 49,
     "status": "ok",
     "timestamp": 1701382287893,
     "user": {
      "displayName": "Dawson MA",
      "userId": "01975604679306904918"
     },
     "user_tz": 480
    },
    "id": "DRiFNdmKwv0r"
   },
   "outputs": [],
   "source": [
    "def isPlayed(u, i, func, thres):\n",
    "    similarities = []\n",
    "    users = usersPerMovie[i]\n",
    "    candidateMovies = set()\n",
    "    for u in users:\n",
    "        candidateMovies = candidateMovies.union(moviesPerUser[u])\n",
    "    for i2 in candidateMovies:\n",
    "        if i2 == i: continue\n",
    "        sim = func(users, usersPerMovie[i2])\n",
    "        similarities.append(sim)\n",
    "    if not similarities:\n",
    "        return False\n",
    "    similarities.sort()\n",
    "\n",
    "    # return similarities[-1] >= thres\n",
    "\n",
    "    return statistics.mean(similarities[-3:]) > thres"
   ]
  },
  {
   "cell_type": "code",
   "execution_count": null,
   "metadata": {},
   "outputs": [],
   "source": [
    "def isPlayed(u, i, func, thres):\n",
    "    similarities = []\n",
    "    users = usersPerMovie[i]\n",
    "    for j in moviesPerUser[u]:\n",
    "        if i == j: continue\n",
    "        sim = func(set(users), set(usersPerMovie[j]))\n",
    "        similarities.append(sim)\n",
    "    if not similarities:\n",
    "        return False\n",
    "    similarities.sort()\n",
    "\n",
    "    # return similarities[-1] >= thres\n",
    "\n",
    "    return statistics.mean(similarities[-3:]) > thres"
   ]
  },
  {
   "cell_type": "code",
   "execution_count": null,
   "metadata": {
    "colab": {
     "base_uri": "https://localhost:8080/",
     "height": 361
    },
    "executionInfo": {
     "elapsed": 2056752,
     "status": "error",
     "timestamp": 1701375802990,
     "user": {
      "displayName": "Dawson MA",
      "userId": "01975604679306904918"
     },
     "user_tz": 480
    },
    "id": "9AW-LNWPww5G",
    "outputId": "bbdbd093-96ed-4461-85e5-44f5165250ad"
   },
   "outputs": [],
   "source": [
    "samples = []\n",
    "flaseSampleNum = 1\n",
    "falseUserMoviePair = set()\n",
    "for user, movie in userMoviePair:\n",
    "    samples.append([(user, movie), True])\n",
    "\n",
    "    for _ in range(flaseSampleNum):\n",
    "        n = 0\n",
    "        while True:\n",
    "            false_movie = random.choices([*movies],k=1)[0]['name']\n",
    "            false_sample = (user, false_movie)\n",
    "            if (false_sample not in userMoviePair) and (false_sample not in falseUserMoviePair) or n > 50:\n",
    "                break\n",
    "            n += 1\n",
    "        falseUserMoviePair.add(false_sample)\n",
    "        samples.append([false_sample, False])"
   ]
  },
  {
   "cell_type": "code",
   "execution_count": null,
   "metadata": {
    "executionInfo": {
     "elapsed": 715,
     "status": "ok",
     "timestamp": 1701376576272,
     "user": {
      "displayName": "Dawson MA",
      "userId": "01975604679306904918"
     },
     "user_tz": 480
    },
    "id": "8TgUszjB6Le8"
   },
   "outputs": [],
   "source": [
    "random.seed(666)\n",
    "random.shuffle(samples)\n",
    "trian_sample = samples[:int(0.9*len(samples))]\n",
    "valid_sample = samples[int(0.9*len(samples)):]"
   ]
  },
  {
   "cell_type": "code",
   "execution_count": null,
   "metadata": {},
   "outputs": [],
   "source": [
    "test = [len(usersPerMovie[s[0][1]]) for s in trian_sample]\n",
    "print(statistics.median(test))"
   ]
  },
  {
   "cell_type": "code",
   "execution_count": null,
   "metadata": {
    "id": "mSLtmUOGwyWg"
   },
   "outputs": [],
   "source": [
    "correct = 0\n",
    "thres = 0.1\n",
    "popular_thres = 1000\n",
    "\n",
    "for s in trian_sample:\n",
    "    played = isPlayed(s[0][0], s[0][1], Jaccard, thres)\n",
    "    popular = len(usersPerMovie[s[0][1]]) > popular_thres\n",
    "    if (s[1] and played) or (s[1] and popular) or (not s[1] and not played and not popular):\n",
    "        correct += 1\n",
    "print(correct / len(samples))"
   ]
  },
  {
   "cell_type": "code",
   "execution_count": null,
   "metadata": {},
   "outputs": [],
   "source": [
    "print(correct / len(samples))"
   ]
  },
  {
   "cell_type": "markdown",
   "metadata": {
    "id": "PhwaL5h8ylft"
   },
   "source": [
    "#### Bayesian Personalized Ranking"
   ]
  },
  {
   "cell_type": "code",
   "execution_count": null,
   "metadata": {
    "id": "XGn8E_VuxzdH"
   },
   "outputs": [],
   "source": [
    "Xui = scipy.sparse.lil_matrix((len(userIDs), len(movieIDs)))\n",
    "for pair, label in samples:\n",
    "    if not label:\n",
    "        continue\n",
    "    Xui[userIDs[pair[0]], movieIDs[pair[1]]] = 1\n",
    "\n",
    "Xui_csr = scipy.sparse.csr_matrix(Xui)"
   ]
  },
  {
   "cell_type": "code",
   "execution_count": null,
   "metadata": {
    "id": "ntvMLXUz0Xd7"
   },
   "outputs": [],
   "source": [
    "model = bpr.BayesianPersonalizedRanking()\n",
    "model.fit(Xui_csr)"
   ]
  },
  {
   "cell_type": "code",
   "execution_count": null,
   "metadata": {
    "id": "RlamtA2o0mSm"
   },
   "outputs": [],
   "source": [
    "correct = 0\n",
    "num_recommended = 1000\n",
    "\n",
    "for s in samples:\n",
    "    recommended = model.recommend(userIDs[u], Xui_csr[userIDs[u]], N=num_recommended)[0]\n",
    "    rcmSet = {sam for sam in recommended}\n",
    "    if (s[1] and s[0] in rcmSet) or (not s[1] and s[0] not in rcmSet):\n",
    "        correct += 1\n",
    "print(correct / len(samples))"
   ]
  },
  {
   "cell_type": "markdown",
   "metadata": {
    "id": "46GUEKL05q3k"
   },
   "source": [
    "#### Logistic"
   ]
  },
  {
   "cell_type": "code",
   "execution_count": null,
   "metadata": {
    "id": "cU0nSpT-6HtW"
   },
   "outputs": [],
   "source": [
    "def BER(pred, ground_truth):\n",
    "    TP_ = numpy.logical_and(pred, ground_truth)\n",
    "    FP_ = numpy.logical_and(pred, numpy.logical_not(ground_truth))\n",
    "    TN_ = numpy.logical_and(numpy.logical_not(pred), numpy.logical_not(ground_truth))\n",
    "    FN_ = numpy.logical_and(numpy.logical_not(pred), ground_truth)\n",
    "\n",
    "    TP = sum(TP_)\n",
    "    FP = sum(FP_)\n",
    "    TN = sum(TN_)\n",
    "    FN = sum(FN_)\n",
    "\n",
    "    return 1 - 0.5*(TP / (TP + FN) + TN / (TN + FP))"
   ]
  },
  {
   "cell_type": "code",
   "execution_count": null,
   "metadata": {},
   "outputs": [],
   "source": [
    "def maxSim(u, i, func):\n",
    "    similarities = []\n",
    "    users = usersPerMovie[i]\n",
    "    for j in moviesPerUser[u]:\n",
    "        if i == j: continue\n",
    "        sim = func(set(users), set(usersPerMovie[j]))\n",
    "        similarities.append(sim)\n",
    "    if not similarities:\n",
    "        return False\n",
    "    similarities.sort()\n",
    "\n",
    "    return similarities[-1]"
   ]
  },
  {
   "cell_type": "code",
   "execution_count": null,
   "metadata": {},
   "outputs": [],
   "source": [
    "max_viewer = -1\n",
    "for _, val in usersPerMovie.items():\n",
    "    max_viewer = max(max_viewer, len(val))\n",
    "\n",
    "nor_popular = {}\n",
    "for movie, val in usersPerMovie.items():\n",
    "    nor_popular[movie] = len(val) / max_viewer"
   ]
  },
  {
   "cell_type": "code",
   "execution_count": null,
   "metadata": {},
   "outputs": [],
   "source": [
    "xtrain = [[1, nor_popular[s[0][1]], maxSim(s[0][0], s[0][1], Jaccard)] for s in trian_sample]\n",
    "ytrain = [s[1] for s in trian_sample]\n",
    "\n",
    "xvalid = [[1, nor_popular[s[0][1]], maxSim(s[0][0], s[0][1], Jaccard)] for s in valid_sample]\n",
    "yvalid = [s[1] for s in valid_sample]"
   ]
  },
  {
   "cell_type": "code",
   "execution_count": null,
   "metadata": {},
   "outputs": [],
   "source": [
    "best_acc = 0.\n",
    "best_BER = 50\n",
    "best_c = None\n",
    "max_it = 10000\n",
    "solver = 'lbfgs'\n",
    "\n",
    "for reg in [0.001, 0.1, 1, 5, 10, 100, 200]:\n",
    "    mod = linear_model.LogisticRegression(C=reg, class_weight = 'balanced', max_iter=max_it, solver=solver)\n",
    "    mod.fit(xtrain, ytrain)\n",
    "\n",
    "    predValid = mod.predict(xvalid)\n",
    "    acc = sum(predValid == yvalid) / len(yvalid)\n",
    "    ber = BER(predValid, yvalid)\n",
    "\n",
    "    if best_BER > ber:\n",
    "        best_BER = ber\n",
    "        best_acc = acc\n",
    "        best_c = reg\n",
    "        print(reg, acc, ber)\n",
    "\n",
    "print(best_c, best_acc, ber)"
   ]
  },
  {
   "cell_type": "markdown",
   "metadata": {},
   "source": [
    "#### Nueral Network"
   ]
  },
  {
   "cell_type": "code",
   "execution_count": null,
   "metadata": {},
   "outputs": [],
   "source": [
    "import torch\n",
    "import torch.nn as nn\n",
    "from torch.utils.data import Dataset, DataLoader"
   ]
  },
  {
   "cell_type": "code",
   "execution_count": null,
   "metadata": {},
   "outputs": [],
   "source": [
    "num_genre = len(genre_dict)"
   ]
  },
  {
   "cell_type": "code",
   "execution_count": null,
   "metadata": {},
   "outputs": [],
   "source": [
    "class NN(nn.Module):\n",
    "    def __init__(self):\n",
    "        super(NN, self).__init__()\n",
    "        self.layer1_1 = nn.Linear((num_genre + 5), 128)\n",
    "        self.layer1_2 = nn.Linear((num_genre + 5), 128)\n",
    "        self.layer2_1 = nn.Linear(128, 256)\n",
    "        self.layer2_2 = nn.Linear(128, 256)\n",
    "        self.layer3 = nn.Linear(256, 128)\n",
    "        self.layer4 = nn.Linear(128, 64) \n",
    "        self.layer5 = nn.Linear(64, 16) \n",
    "        self.layer6 = nn.Linear(64, 2) \n",
    "\n",
    "        self.act_fn = nn.ReLU()\n",
    "\n",
    "    def forward(self, x1, x2):\n",
    "        x1 = self.layer1_1(x1)\n",
    "        x1 = self.act_fn(x1)\n",
    "\n",
    "        x2 = self.layer1_2(x2)\n",
    "        x2 = self.act_fn(x2)\n",
    "\n",
    "        x1 = self.layer2_1(x1)\n",
    "        x1 = self.act_fn(x1)\n",
    "\n",
    "        x2 = self.layer2_2(x2)\n",
    "        x2 = self.act_fn(x2)\n",
    "\n",
    "        x = self.layer3(x1+x2)\n",
    "        x = self.act_fn(x)\n",
    "        \n",
    "        x = self.layer4(x)\n",
    "        x = self.act_fn(x)\n",
    "\n",
    "        x = self.layer5(x)\n",
    "        x = self.act_fn(x)\n",
    "\n",
    "        out = self.layer6(x)\n",
    "        \n",
    "        return out"
   ]
  },
  {
   "cell_type": "code",
   "execution_count": null,
   "metadata": {},
   "outputs": [],
   "source": [
    "genreID = {}\n",
    "for genre in genre_dict.keys():\n",
    "    if genre not in genreID:\n",
    "        genreID[genre] = len(genreID)"
   ]
  },
  {
   "cell_type": "code",
   "execution_count": null,
   "metadata": {},
   "outputs": [],
   "source": [
    "movie_dict['10 Cloverfield Lane']"
   ]
  },
  {
   "cell_type": "code",
   "execution_count": null,
   "metadata": {},
   "outputs": [],
   "source": [
    "def features_user(user):\n",
    "    fea = [0] * (num_genre + 5)\n",
    "    fea[-1] = 1\n",
    "    for movie in moviesPerUser[user]:\n",
    "        for genre in movie_dict[movie]['genres'].split(';'):\n",
    "            if genre in genreID:\n",
    "                fea[genreID[genre]] = 1\n",
    "        fea[num_genre] += int(movie_dict[movie]['year'])\n",
    "        fea[num_genre+1] += float(movie_dict[movie]['rating'])\n",
    "        fea[num_genre+2] += float(movie_dict[movie]['num_raters'])\n",
    "        fea[num_genre+3] += float(movie_dict[movie]['num_reviews'])\n",
    "    for i in range(len(fea)):\n",
    "        fea[i] /= len(moviesPerUser[user])\n",
    "    \n",
    "    return fea"
   ]
  },
  {
   "cell_type": "code",
   "execution_count": null,
   "metadata": {},
   "outputs": [],
   "source": [
    "def features_movie(movie):\n",
    "    fea = [0] * (num_genre + 5)\n",
    "    fea[-1] = 1\n",
    "    for genre in movie_dict[movie]['genres'].split(';'):\n",
    "        if genre in genreID:\n",
    "            fea[genreID[genre]] = 1\n",
    "    fea[num_genre] += int(movie_dict[movie]['year'])\n",
    "    fea[num_genre+1] += float(movie_dict[movie]['rating'])\n",
    "    fea[num_genre+2] += float(movie_dict[movie]['num_raters'])\n",
    "    fea[num_genre+3] += float(movie_dict[movie]['num_reviews'])\n",
    "    \n",
    "    return fea"
   ]
  },
  {
   "cell_type": "code",
   "execution_count": null,
   "metadata": {},
   "outputs": [],
   "source": [
    "class movieDataset(Dataset):\n",
    "    def __init__(self, x1, x2, y):\n",
    "        self.data = data\n",
    "        self.x1 = torch.FloatTensor(x1.copy())\n",
    "        self.x2 = torch.FloatTensor(x2.copy())\n",
    "        self.y = torch.FloatTensor(y.copy())\n",
    "        \n",
    "    def __getitem__(self, index):\n",
    "        return self.x1[index], self.x2[index], self.y[index]\n",
    "\n",
    "    def __len__(self):\n",
    "        return len(self.y)"
   ]
  },
  {
   "cell_type": "code",
   "execution_count": null,
   "metadata": {},
   "outputs": [],
   "source": [
    "x1train_nn = [features_user(s[0][0]) for s in trian_sample]\n",
    "x2train_nn = [features_movie(s[0][1]) for s in trian_sample]\n",
    "ytrain_nn = [s[1] for s in trian_sample]\n",
    "\n",
    "x1valid_nn = [features_user(s[0][0]) for s in trian_sample]\n",
    "x2valid_nn = [features_movie(s[0][1]) for s in trian_sample]\n",
    "yvalid_nn = [s[1] for s in valid_sample]"
   ]
  },
  {
   "cell_type": "code",
   "execution_count": null,
   "metadata": {},
   "outputs": [],
   "source": [
    "# Train\n",
    "def train(model, config, device):\n",
    "    n_epochs = config['n_epochs']  # Maximum number of epochs\n",
    "\n",
    "    dataset = movieDataset(x1train_nn, x2train_nn, ytrain_nn)\n",
    "\n",
    "    # Datasets\n",
    "    dataseloader = DataLoader(dataset, config['batch_size'], shuffle=True,\n",
    "                         drop_last=False, pin_memory=True)\n",
    "\n",
    "    # Optimizer\n",
    "    optimizer = getattr(torch.optim, config['optimizer'])(model.parameters(), **config['optim_hparas'])\n",
    "    \n",
    "    # Learning rate scheduler\n",
    "    lambda1 = lambda epoch: config['lambda'] ** epoch\n",
    "    scheduler = torch.optim.lr_scheduler.LambdaLR(optimizer, lr_lambda=lambda1)\n",
    "    \n",
    "    model.to(device)\n",
    "\n",
    "    best_loss = 10000.\n",
    "    best_acc = 0.\n",
    "    epoch = 0\n",
    "    criterion = nn.CrossEntropyLoss()\n",
    "\n",
    "    model.train()\n",
    "    while epoch < n_epochs:\n",
    "        print(f'Epoch: {epoch}')\n",
    "        running_loss = 0.\n",
    "        running_acc = 0.\n",
    "\n",
    "        for x1, x2, y in dataseloader:\n",
    "            optimizer.zero_grad()\n",
    "            x1, x2, y = x1.to(device), x2.to(device), y.to(device)\n",
    "\n",
    "            with torch.set_grad_enabled(True):\n",
    "                pred = model(x1, x2)\n",
    "                loss = criterion(pred, y)\n",
    "\n",
    "                _, preds = torch.max(pred, 1)\n",
    "\n",
    "                loss.backward()\n",
    "                optimizer.step()\n",
    "\n",
    "            running_loss += loss\n",
    "            running_acc += torch.sum(preds == y).item()\n",
    "        print(f'Loss: {running_loss} Acc: {running_acc/len(dataloader.dataset)}')\n",
    "        \n",
    "        # schedule learning rate\n",
    "        scheduler.step()\n",
    "\n",
    "        if running_loss < best_loss:\n",
    "            best_loss = running_loss\n",
    "            torch.save(model.state_dict(), config['save_path'])\n",
    "            print('Model saved!')\n",
    "        epoch += 1"
   ]
  },
  {
   "cell_type": "code",
   "execution_count": null,
   "metadata": {},
   "outputs": [],
   "source": [
    "config = {\n",
    "    'n_epochs': 5000,\n",
    "    'batch_size': 4096,\n",
    "    'optimizer': 'Adam',\n",
    "    'optim_hparas': {\n",
    "        'lr': 0.00001,\n",
    "        'weight_decay': 0.001, \n",
    "    },\n",
    "    'lambda': 0.996,\n",
    "    'early_stop': 200,\n",
    "    'save_path': 'models/model.pth'\n",
    "}"
   ]
  },
  {
   "cell_type": "code",
   "execution_count": null,
   "metadata": {},
   "outputs": [],
   "source": [
    "device = 'cuda' if torch.cuda.is_available() else 'cpu'\n",
    "device"
   ]
  },
  {
   "cell_type": "code",
   "execution_count": null,
   "metadata": {},
   "outputs": [],
   "source": [
    "model = NN()\n",
    "train(model, config, device)"
   ]
  }
 ],
 "metadata": {
  "colab": {
   "provenance": []
  },
  "kernelspec": {
   "display_name": "Python 3 (ipykernel)",
   "language": "python",
   "name": "python3"
  },
  "language_info": {
   "codemirror_mode": {
    "name": "ipython",
    "version": 3
   },
   "file_extension": ".py",
   "mimetype": "text/x-python",
   "name": "python",
   "nbconvert_exporter": "python",
   "pygments_lexer": "ipython3",
   "version": "3.9.5"
  }
 },
 "nbformat": 4,
 "nbformat_minor": 1
}
